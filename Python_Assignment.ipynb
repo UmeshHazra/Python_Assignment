{
  "nbformat": 4,
  "nbformat_minor": 0,
  "metadata": {
    "colab": {
      "provenance": []
    },
    "kernelspec": {
      "name": "python3",
      "display_name": "Python 3"
    },
    "language_info": {
      "name": "python"
    }
  },
  "cells": [
    {
      "cell_type": "markdown",
      "source": [
        "1.Explain the key features of Python that make it a popular choice for programming\n",
        "\n",
        "ANS:-\n",
        "\n",
        "\n",
        "\n",
        "1.Simple and Readable Syntax: Python’s syntax is clean and easy to learn, resembling English.\n",
        "\n",
        "2.Interpreted Language: Python is executed line-by-line, which makes debugging easier.\n",
        "\n",
        "3.Dynamically Typed: No need to declare variable types; Python infers them automatically.\n",
        "\n",
        "4.Extensive Standard Library: Includes modules for file I/O, system calls, web services, etc.\n",
        "\n",
        "5.Cross-platform: Write once, run anywhere.\n",
        "\n",
        "6.Object-Oriented and Functional: Supports both paradigms."
      ],
      "metadata": {
        "id": "ROIjrRmYF5c2"
      }
    },
    {
      "cell_type": "markdown",
      "source": [
        " 2.Describe the role of predefined keywords in Python and provide examples of how they are used in a\n",
        "program.\n",
        "ANS:-\n",
        "\n",
        "Keywords are reserved words in Python that have special meaning\n",
        "\n",
        "Examples of keywords: if, else, while, for, def, return, class, import, True, False, None, etc."
      ],
      "metadata": {
        "id": "kV5OcHQlGm7G"
      }
    },
    {
      "cell_type": "code",
      "source": [
        "if True:\n",
        "    print(\"Hii PW!!\")\n"
      ],
      "metadata": {
        "colab": {
          "base_uri": "https://localhost:8080/"
        },
        "id": "IQeIy-1qHZfe",
        "outputId": "8b242711-14ad-4450-dc66-e54b489d6c21"
      },
      "execution_count": 2,
      "outputs": [
        {
          "output_type": "stream",
          "name": "stdout",
          "text": [
            "Hii PW!!\n"
          ]
        }
      ]
    },
    {
      "cell_type": "markdown",
      "source": [
        "3. Compare and contrast mutable and immutable objects in Python with examples.\n",
        "\n",
        "ANS:-\n",
        "\n",
        "Mutable objects can be changed after creation.\n",
        "Example Types -list, dict, set.\n",
        "\n",
        "Immutable objects cannot be changed once created.\n",
        "Example Types -int, float, str, tuple.\n",
        "\n"
      ],
      "metadata": {
        "id": "_1HtjYwTH6uN"
      }
    },
    {
      "cell_type": "code",
      "source": [
        "# Mutable\n",
        "my_list = [1, 2, 3]\n",
        "my_list.append(4)\n",
        "print(my_list)\n"
      ],
      "metadata": {
        "colab": {
          "base_uri": "https://localhost:8080/"
        },
        "id": "MMUPP5n8IwZT",
        "outputId": "bf641f67-ba00-4484-93e4-79a004c39c38"
      },
      "execution_count": 3,
      "outputs": [
        {
          "output_type": "stream",
          "name": "stdout",
          "text": [
            "[1, 2, 3, 4]\n"
          ]
        }
      ]
    },
    {
      "cell_type": "code",
      "source": [
        "# Immutable\n",
        "x = 10\n",
        "x = x + 5\n",
        "print(x)\n"
      ],
      "metadata": {
        "colab": {
          "base_uri": "https://localhost:8080/"
        },
        "id": "lEg-yzGSI4a9",
        "outputId": "ebc001a7-4ffc-4c80-ba67-0d2bdf525770"
      },
      "execution_count": 4,
      "outputs": [
        {
          "output_type": "stream",
          "name": "stdout",
          "text": [
            "15\n"
          ]
        }
      ]
    },
    {
      "cell_type": "markdown",
      "source": [
        "4.Discuss the different types of operators in Python and provide examples of how they are used.\n",
        "\n",
        "ANS:-\n",
        "\n",
        "**Arithmetic**:-\t+, -, *, /, %, **, //\n",
        "\n",
        "Example- a + b, a ** 2\n",
        "\n",
        "**Comparison**:-\t==, !=, >, <, >=, <=\n",
        "\n",
        "Example- a > b\n",
        "\n",
        "**Logical**:-\tand, or, not\n",
        "\n",
        "Example- a > 5 and b < 10\n",
        "\n",
        "**Assignment**:-\t=, +=, -=, *=, /=, etc.\n",
        "\n",
        "Example- x += 1\n",
        "\n",
        "etc.\n",
        "\n"
      ],
      "metadata": {
        "id": "TBuTy3oQJHhl"
      }
    },
    {
      "cell_type": "markdown",
      "source": [
        "5.Explain the concept of type casting in Python with examples.\n",
        "\n",
        "ANS:-\n",
        "Type casting converts a variable from one type to another.\n",
        "\n",
        "Some casting functions:int(), float(), str(), bool(), list(), etc.\n",
        "\n"
      ],
      "metadata": {
        "id": "FRYWSx8JKqTU"
      }
    },
    {
      "cell_type": "code",
      "source": [
        "a = \"123\"\n",
        "b = int(a)\n",
        "print(b + 1)\n",
        "\n",
        "x = 10\n",
        "y = str(x)\n",
        "print(y + \"0\")\n"
      ],
      "metadata": {
        "colab": {
          "base_uri": "https://localhost:8080/"
        },
        "id": "6BAAC5uZLIat",
        "outputId": "afa16fa2-cbf5-45f2-97ba-a5315ec71576"
      },
      "execution_count": 5,
      "outputs": [
        {
          "output_type": "stream",
          "name": "stdout",
          "text": [
            "124\n",
            "100\n"
          ]
        }
      ]
    },
    {
      "cell_type": "markdown",
      "source": [
        "6. How do conditional statements work in Python? Illustrate with examples.\n",
        "\n",
        "ANS:-\n",
        "\n",
        "Conditional statements in Python are used to execute specific blocks of code based on whether a condition is true or false. The main statements are `if`, `elif`, and `else`, which control the program's flow.\n",
        "\n"
      ],
      "metadata": {
        "id": "JIIzpP-CLWVF"
      }
    },
    {
      "cell_type": "code",
      "source": [
        "x = 15\n",
        "if x > 20:\n",
        "    print(\"Greater than 20\")\n",
        "elif x > 10:\n",
        "    print(\"Between 11 and 20\")\n",
        "else:\n",
        "    print(\"10 or less\")\n"
      ],
      "metadata": {
        "colab": {
          "base_uri": "https://localhost:8080/"
        },
        "id": "zPZAEbmYLpX4",
        "outputId": "a77f95e5-5014-463d-d9ea-9afb820b0d40"
      },
      "execution_count": 7,
      "outputs": [
        {
          "output_type": "stream",
          "name": "stdout",
          "text": [
            "Between 11 and 20\n"
          ]
        }
      ]
    },
    {
      "cell_type": "markdown",
      "source": [
        "7. Describe the different types of loops in Python and their use cases with examples.\n",
        "\n",
        "ANS:-\n",
        "\n",
        "In Python, a *for loop* is used to iterate over a sequence like a list, string, or range, executing a block of code for each item. A *while loop* runs a block of code repeatedly as long as a specified condition remains true. Both loops help in automating repetitive tasks."
      ],
      "metadata": {
        "id": "RtRMK_zZMbWc"
      }
    },
    {
      "cell_type": "code",
      "source": [
        "# For loop Example\n",
        "for i in range(5):\n",
        "    print(i)\n"
      ],
      "metadata": {
        "colab": {
          "base_uri": "https://localhost:8080/"
        },
        "id": "CceaFi7SM_SG",
        "outputId": "b2b33244-eccc-4209-9e59-d35ecccb7f1b"
      },
      "execution_count": 8,
      "outputs": [
        {
          "output_type": "stream",
          "name": "stdout",
          "text": [
            "0\n",
            "1\n",
            "2\n",
            "3\n",
            "4\n"
          ]
        }
      ]
    },
    {
      "cell_type": "code",
      "source": [
        "# while loop Example\n",
        "x = 0\n",
        "while x < 5:\n",
        "    print(x)\n",
        "    x += 1\n"
      ],
      "metadata": {
        "colab": {
          "base_uri": "https://localhost:8080/"
        },
        "id": "fQq54YPXNGg0",
        "outputId": "c4d43663-5637-4e46-c416-36e273232f4a"
      },
      "execution_count": 9,
      "outputs": [
        {
          "output_type": "stream",
          "name": "stdout",
          "text": [
            "0\n",
            "1\n",
            "2\n",
            "3\n",
            "4\n"
          ]
        }
      ]
    },
    {
      "cell_type": "code",
      "source": [],
      "metadata": {
        "id": "jtJQNpGoNK7v"
      },
      "execution_count": null,
      "outputs": []
    }
  ]
}